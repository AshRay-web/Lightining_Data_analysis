{
 "cells": [
  {
   "cell_type": "code",
   "execution_count": 1,
   "id": "3e5a1575",
   "metadata": {},
   "outputs": [],
   "source": [
    "import pandas as pd\n",
    "import matplotlib.pyplot as plt\n",
    "import glob"
   ]
  },
  {
   "cell_type": "code",
   "execution_count": 2,
   "id": "31ea0846",
   "metadata": {},
   "outputs": [],
   "source": [
    "file_names = [\"10-11\",\"11-12\",\"12-13\",\"13-14\", \"14-15\", \"15-16\", \"16-17\", \"17-18\", \"18-19\", \"19-20\",\"21-22\"]"
   ]
  },
  {
   "cell_type": "code",
   "execution_count": 3,
   "id": "e71ffae6",
   "metadata": {},
   "outputs": [],
   "source": [
    "total_deaths_list=[]"
   ]
  },
  {
   "cell_type": "code",
   "execution_count": 4,
   "id": "b22179a8",
   "metadata": {},
   "outputs": [],
   "source": [
    "incident_types=['Fire','Forest Fire' ,'Animal Incidents', 'Thunderbolt','Wind storm',\n",
    " 'Landslide','Flood' ,'Heavy Rainfall', 'Hail Storm',\n",
    " 'Snake Bite' ,'Other','High Altitude' ,'Air Crash']"
   ]
  },
  {
   "cell_type": "code",
   "execution_count": 5,
   "id": "6b4c970e",
   "metadata": {
    "scrolled": true
   },
   "outputs": [
    {
     "name": "stdout",
     "output_type": "stream",
     "text": [
      "[751, 11, 108, 1064, 77, 1242, 1041, 83, 1, 64, 125, 79, 22]\n"
     ]
    }
   ],
   "source": [
    "total_deaths_dict = {incident: 0 for incident in incident_types}\n",
    "\n",
    "for file_name in file_names:\n",
    " \n",
    "    file_path = f\"{file_name}.xls\"\n",
    " \n",
    "    xls = pd.ExcelFile(file_path)\n",
    "\n",
    "    df = pd.read_excel(file_path)\n",
    "    # Loop through each incident type and add up the corresponding deaths\n",
    "    for incident in incident_types:\n",
    "        total_deaths = df[df['Incident'] == incident]['Total Death'].sum()\n",
    "        total_deaths_dict[incident] += total_deaths\n",
    "\n",
    "# Convert the dictionary to a list\n",
    "total_deaths_list = [total_deaths_dict[incident] for incident in incident_types]\n",
    "\n",
    "print(total_deaths_list)\n",
    "\n"
   ]
  },
  {
   "cell_type": "code",
   "execution_count": 7,
   "id": "27ac6891",
   "metadata": {},
   "outputs": [
    {
     "data": {
      "image/png": "[encoded data removed]",
      "text/plain": [
       "<Figure size 648x432 with 1 Axes>"
      ]
     },
     "metadata": {
      "needs_background": "light"
     },
     "output_type": "display_data"
    },
    {
     "data": {
      "text/plain": [
       "<Figure size 432x288 with 0 Axes>"
      ]
     },
     "metadata": {},
     "output_type": "display_data"
    }
   ],
   "source": [
    "sorted_data = sorted(zip(incident_types, total_deaths_list), key=lambda x: x[1], reverse=True)\n",
    "sorted_incident_types, sorted_total_deaths = zip(*sorted_data)\n",
    "plt.figure(figsize=(9,6))\n",
    "\n",
    "\n",
    "# Find the index of the second-highest total deaths\n",
    "second_highest_index = sorted_total_deaths.index(sorted_total_deaths[1])\n",
    "\n",
    "# Create a list of colors, setting the second highest value to a different color\n",
    "colors = ['skyblue' if i != second_highest_index else 'orange' for i in range(len(sorted_total_deaths))]\n",
    "incident_types = ['Lightning' if incident == 'Thunderbolt' else incident for incident in incident_types]\n",
    "\n",
    "# Create the horizontal bar graph\n",
    "plt.barh(sorted_incident_types, sorted_total_deaths, color=colors)\n",
    "plt.xlabel('Total Deaths')\n",
    "plt.ylabel('Incident Types')\n",
    "\n",
    "plt.gca().invert_yaxis()  # Invert y-axis to have the highest value at the top\n",
    "plt.tight_layout()\n",
    "plt.show()\n",
    "\n"
   ]
  },
  {
   "cell_type": "code",
   "execution_count": 37,
   "id": "dc50257b",
   "metadata": {},
   "outputs": [
    {
     "data": {
      "image/png": "[encoded data removed]",
      "text/plain": [
       "<Figure size 252x216 with 1 Axes>"
      ]
     },
     "metadata": {
      "needs_background": "light"
     },
     "output_type": "display_data"
    }
   ],
   "source": [
    "import matplotlib.pyplot as plt\n",
    "\n",
    "# Your data and sorting code here\n",
    "sorted_data = sorted(zip(incident_types, total_deaths_list), key=lambda x: x[1], reverse=True)\n",
    "sorted_incident_types, sorted_total_deaths = zip(*sorted_data)\n",
    "\n",
    "plt.figure(figsize=(3.5, 3))  # Increase the figure size for better visibility\n",
    "\n",
    "# Find the index of the second-highest total deaths\n",
    "second_highest_index = sorted_total_deaths.index(sorted_total_deaths[1])\n",
    "\n",
    "# Create a list of colors, setting the second highest value to a different color\n",
    "colors = ['skyblue' if i != second_highest_index else 'orange' for i in range(len(sorted_total_deaths))]\n",
    "incident_types = ['Lightning' if incident == 'Thunderbolt' else incident for incident in incident_types]\n",
    "\n",
    "# Create the horizontal bar graph\n",
    "plt.barh(sorted_incident_types, sorted_total_deaths, color=colors)\n",
    "\n",
    "# Increase font size for better visibility\n",
    "plt.xlabel('Total Deaths', fontsize=10)\n",
    "plt.ylabel('Incident Types', fontsize=10)\n",
    "\n",
    "# Increase Y-axis label size\n",
    "plt.tick_params(axis='y', labelsize=8)\n",
    "plt.tick_params(axis='x', labelsize=8)\n",
    "plt.tick_params(axis='y', labelsize=8)\n",
    "plt.tick_params(axis='x', labelsize=8)\n",
    "plt.gca().invert_yaxis()  # Invert y-axis to have the highest value at the top\n",
    "plt.tight_layout()\n",
    "\n",
    "# Save the plot as a high-quality PDF\n",
    "# Save the plot as a high-quality image with DPI set to 300\n",
    "\n",
    "plt.show()\n"
   ]
  }
 ],
 "metadata": {
  "kernelspec": {
   "display_name": "Python 3 (ipykernel)",
   "language": "python",
   "name": "python3"
  },
  "language_info": {
   "codemirror_mode": {
    "name": "ipython",
    "version": 3
   },
   "file_extension": ".py",
   "mimetype": "text/x-python",
   "name": "python",
   "nbconvert_exporter": "python",
   "pygments_lexer": "ipython3",
   "version": "3.10.12"
  }
 },
 "nbformat": 4,
 "nbformat_minor": 5
}
