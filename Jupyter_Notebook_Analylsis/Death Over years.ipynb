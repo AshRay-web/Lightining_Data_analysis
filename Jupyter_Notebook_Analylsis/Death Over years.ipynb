{
 "cells": [
  {
   "cell_type": "code",
   "execution_count": 1,
   "id": "3f9d72c9",
   "metadata": {},
   "outputs": [],
   "source": [
    "import pandas as pd\n",
    "import matplotlib.pyplot as plt"
   ]
  },
  {
   "cell_type": "markdown",
   "id": "a538c23c",
   "metadata": {},
   "source": [
    "FOR FILE PATH"
   ]
  },
  {
   "cell_type": "code",
   "execution_count": 2,
   "id": "c6ca050f",
   "metadata": {},
   "outputs": [],
   "source": [
    "file_names = [\"0-1\",\"1-2\",\"2-3\",\"3-4\",\"4-5\",\"5-6\",\"6-7\",\"7-8\",\"8-9\",\"9-10\",\"10-11\",\"11-12\",\"12-13\",\"13-14\", \"14-15\", \"15-16\", \"16-17\", \"17-18\", \"18-19\", \"19-20\", \"20-21\", \"21-22\", \"22-23\"]"
   ]
  },
  {
   "cell_type": "code",
   "execution_count": 3,
   "id": "1e685a05",
   "metadata": {},
   "outputs": [],
   "source": [
    "deaths_each_year=[]"
   ]
  },
  {
   "cell_type": "code",
   "execution_count": 4,
   "id": "f93d51b7",
   "metadata": {},
   "outputs": [],
   "source": [
    "thunderbolt_incidents=[]"
   ]
  },
  {
   "cell_type": "code",
   "execution_count": 5,
   "id": "b3877296",
   "metadata": {
    "scrolled": true
   },
   "outputs": [
    {
     "name": "stdout",
     "output_type": "stream",
     "text": [
      "Total deaths due to lightning in 0-1, 21,also incident 35\n",
      "Total deaths due to lightning in 1-2, 65,also incident 51\n",
      "Total deaths due to lightning in 2-3, 31,also incident 27\n",
      "Total deaths due to lightning in 3-4, 67,also incident 58\n",
      "Total deaths due to lightning in 4-5, 22,also incident 36\n",
      "Total deaths due to lightning in 5-6, 35,also incident 29\n",
      "Total deaths due to lightning in 6-7, 42,also incident 49\n",
      "Total deaths due to lightning in 7-8, 46,also incident 60\n",
      "Total deaths due to lightning in 8-9, 63,also incident 82\n",
      "Total deaths due to lightning in 9-10, 80,also incident 100\n",
      "Total deaths due to lightning in 10-11, 75,also incident 88\n",
      "Total deaths due to lightning in 11-12, 105,also incident 141\n",
      "Total deaths due to lightning in 12-13, 110,also incident 152\n",
      "Total deaths due to lightning in 13-14, 147,also incident 213\n",
      "Total deaths due to lightning in 14-15, 97,also incident 177\n",
      "Total deaths due to lightning in 15-16, 103,also incident 148\n",
      "Total deaths due to lightning in 16-17, 118,also incident 206\n",
      "Total deaths due to lightning in 17-18, 85,also incident 188\n",
      "Total deaths due to lightning in 18-19, 75,also incident 244\n",
      "Total deaths due to lightning in 19-20, 94,also incident 383\n",
      "Total deaths due to lightning in 20-21, 82,also incident 305\n",
      "Total deaths due to lightning in 21-22, 55,also incident 208\n",
      "Total deaths due to lightning in 22-23, 87,also incident 264\n"
     ]
    }
   ],
   "source": [
    "for file_name in file_names:\n",
    " \n",
    "    file_path = f\"{file_name}.xls\"\n",
    " \n",
    "    xls = pd.ExcelFile(file_path)\n",
    "\n",
    "    df = pd.read_excel(xls)\n",
    "    filtered_df = df[df[\"Incident\"] == \"Thunderbolt\"]  \n",
    "    total_deaths = filtered_df[\"Total Death\"].sum()\n",
    "    \n",
    "    deaths_this_year = total_deaths\n",
    "    deaths_each_year.append(deaths_this_year)\n",
    "    \n",
    "    # Filter rows where the \"incident\" column contains \"Thunderbolt\"\n",
    "    thunderbolt_rows = df[df[\"Incident\"] == \"Thunderbolt\"]\n",
    "    thunderbolt_count = len(thunderbolt_rows)\n",
    "\n",
    "    # Store the count for the current year in the dictionary\n",
    "    thunderbolt_incident= thunderbolt_count\n",
    "    thunderbolt_incidents.append(thunderbolt_incident)\n",
    "    print(f\"Total deaths due to lightning in {file_name}, {total_deaths},also incident {thunderbolt_count}\")\n",
    "\n",
    "\n",
    "\n",
    "\n",
    "\n",
    "    "
   ]
  },
  {
   "cell_type": "code",
   "execution_count": 6,
   "id": "04c87298",
   "metadata": {},
   "outputs": [
    {
     "name": "stdout",
     "output_type": "stream",
     "text": [
      "Year 5-6: 35 rows of Thunderbolt\n",
      "Year 6-7: 51 rows of Thunderbolt\n",
      "Year 7-8: 27 rows of Thunderbolt\n",
      "Year 8-9: 58 rows of Thunderbolt\n",
      "Year 9-10: 36 rows of Thunderbolt\n",
      "Year 10-11: 29 rows of Thunderbolt\n",
      "Year 11-12: 49 rows of Thunderbolt\n",
      "Year 12-13: 60 rows of Thunderbolt\n",
      "Year 13-14: 82 rows of Thunderbolt\n",
      "Year 14-15: 100 rows of Thunderbolt\n",
      "Year 15-16: 88 rows of Thunderbolt\n",
      "Year 16-17: 141 rows of Thunderbolt\n",
      "Year 17-18: 152 rows of Thunderbolt\n",
      "Year 18-19: 213 rows of Thunderbolt\n",
      "Year 19-20: 177 rows of Thunderbolt\n",
      "Year 20-21: 148 rows of Thunderbolt\n",
      "Year 21-22: 206 rows of Thunderbolt\n",
      "Year 22-23: 188 rows of Thunderbolt\n",
      "Year 23-24: 244 rows of Thunderbolt\n",
      "Year 24-25: 383 rows of Thunderbolt\n",
      "Year 25-26: 305 rows of Thunderbolt\n",
      "Year 26-27: 208 rows of Thunderbolt\n",
      "Year 27-28: 264 rows of Thunderbolt\n"
     ]
    }
   ],
   "source": [
    "\n",
    "for year, count in enumerate(thunderbolt_incidents, start=5):\n",
    "    print(f\"Year {year}-{year+1}: {count} rows of Thunderbolt\")\n"
   ]
  },
  {
   "cell_type": "code",
   "execution_count": null,
   "id": "1cee6e9b",
   "metadata": {},
   "outputs": [],
   "source": []
  },
  {
   "cell_type": "code",
   "execution_count": 7,
   "id": "77f1f7ad",
   "metadata": {},
   "outputs": [
    {
     "data": {
      "text/plain": [
       "[21,\n",
       " 65,\n",
       " 31,\n",
       " 67,\n",
       " 22,\n",
       " 35,\n",
       " 42,\n",
       " 46,\n",
       " 63,\n",
       " 80,\n",
       " 75,\n",
       " 105,\n",
       " 110,\n",
       " 147,\n",
       " 97,\n",
       " 103,\n",
       " 118,\n",
       " 85,\n",
       " 75,\n",
       " 94,\n",
       " 82,\n",
       " 55,\n",
       " 87]"
      ]
     },
     "execution_count": 7,
     "metadata": {},
     "output_type": "execute_result"
    }
   ],
   "source": [
    "deaths_each_year"
   ]
  },
  {
   "cell_type": "code",
   "execution_count": 25,
   "id": "778cd35d",
   "metadata": {
    "scrolled": true
   },
   "outputs": [
    {
     "data": {
      "image/png": "[encoded data removed]",
      "text/plain": [
       "<Figure size 504x216 with 1 Axes>"
      ]
     },
     "metadata": {
      "needs_background": "light"
     },
     "output_type": "display_data"
    }
   ],
   "source": [
    "plt.figure(figsize=(7, 3)) \n",
    "\n",
    "file_names = [\n",
    "     '2001','2002','2003', '2004', '2005', '2006', '2007',\n",
    "    '2008', '2009', '2010', '2011', '2012', '2013', '2014', '2015', '2016', '2017',\n",
    "    '2018', '2019', '2020', '2021', '2022','2023'\n",
    "]\n",
    "plt.plot(file_names, deaths_each_year, marker='o', linestyle='-', color='b',label='Deaths')\n",
    "plt.xlabel('Year')\n",
    "plt.ylabel('Death')\n",
    "\n",
    "plt.xticks(rotation=45,ha=\"right\")\n",
    "plt.yticks(fontsize=14)\n",
    "plt.tick_params(axis='y', labelsize=8)\n",
    "plt.tick_params(axis='x', labelsize=8)\n",
    "\n",
    "plt.legend()\n",
    "\n",
    "plt.legend(loc='upper left')\n",
    "\n",
    "legend_img = plt.Line2D([0], [0], marker='s', color='w', markerfacecolor='orange', markersize=10, label='No of Incidents')\n",
    "legend_line = plt.Line2D([0], [0], marker='o', color='w', markerfacecolor='b', markersize=8, label='Deaths')\n",
    "plt.legend(handles=[legend_img, legend_line], loc='upper left')\n",
    "\n",
    "\n",
    "\n",
    "plt.bar(file_names,thunderbolt_incidents,color='orange', alpha=0.7, label='Incident Each Year')\n",
    "plt.savefig(\"deathoveryears.png\", format='png', dpi=300)\n",
    "plt.show()\n",
    "\n"
   ]
  },
  {
   "cell_type": "code",
   "execution_count": 69,
   "id": "97135f0a",
   "metadata": {},
   "outputs": [
    {
     "name": "stderr",
     "output_type": "stream",
     "text": [
      "/tmp/ipykernel_17514/464542719.py:16: MatplotlibDeprecationWarning: Support for passing numbers through unit converters is deprecated since 3.5 and support will be removed two minor releases later; use Axis.convert_units instead.\n",
      "  plt.xticks([])\n"
     ]
    },
    {
     "data": {
      "image/png": "[encoded data removed]",
      "text/plain": [
       "<Figure size 576x216 with 1 Axes>"
      ]
     },
     "metadata": {
      "needs_background": "light"
     },
     "output_type": "display_data"
    }
   ],
   "source": [
    "import matplotlib.pyplot as plt\n",
    "\n",
    "plt.figure(figsize=(8, 3)) \n",
    "\n",
    "file_names = ['01','02','03', '04', '05', '06', '07',\n",
    "    '08', '09', '10', '11', '12', '13', '14', '15', '16', '17',\n",
    "    '18', '19', '20', '21', '22','23']\n",
    "plt.plot(file_names, deaths_each_year, marker='o', linestyle='-', color='b',label='Deaths')\n",
    "plt.xlabel('Year',fontsize=14)\n",
    "plt.ylabel('Death')\n",
    "\n",
    "# Remove x-axis ticks\n",
    "#plt.xticks(     '2001','2002','2003', '2004', '2005', '2006', '2007',\n",
    "    #'2008', '2009', '2010', '2011', '2012', '2013', '2014', '2015', '2016', '2017',\n",
    "    #'2018', '2019', '2020', '2021', '2022','2023')\n",
    "plt.xticks([])\n",
    "plt.ylabel('Death', fontsize=14)\n",
    "plt.tick_params(axis='y', labelsize=12)\n",
    "\n",
    "plt.tick_params(axis='x', labelsize=14)\n",
    "\n",
    "\n",
    "plt.legend(loc='upper left',fontsize=20)\n",
    "legend_img = plt.Line2D([0], [0], marker='s', color='w', markerfacecolor='orange', markersize=10, label='No of Incidents')\n",
    "legend_line = plt.Line2D([0], [0], marker='o', color='w', markerfacecolor='b', markersize=8, label='Deaths')\n",
    "plt.legend(handles=[legend_img, legend_line], loc='upper left',fontsize=13)\n",
    "\n",
    "plt.bar(file_names, thunderbolt_incidents, color='orange', alpha=0.7, label='Incident Each Year')\n",
    "plt.savefig(\"deathoveryears.png\", format='png', dpi=300)\n",
    "plt.show()\n"
   ]
  },
  {
   "cell_type": "code",
   "execution_count": null,
   "id": "ff7955cd",
   "metadata": {},
   "outputs": [],
   "source": []
  }
 ],
 "metadata": {
  "kernelspec": {
   "display_name": "Python 3 (ipykernel)",
   "language": "python",
   "name": "python3"
  },
  "language_info": {
   "codemirror_mode": {
    "name": "ipython",
    "version": 3
   },
   "file_extension": ".py",
   "mimetype": "text/x-python",
   "name": "python",
   "nbconvert_exporter": "python",
   "pygments_lexer": "ipython3",
   "version": "3.10.12"
  }
 },
 "nbformat": 4,
 "nbformat_minor": 5
}
