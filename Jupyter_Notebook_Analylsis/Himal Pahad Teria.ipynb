{
 "cells": [
  {
   "cell_type": "code",
   "execution_count": 1,
   "id": "5eae1df8",
   "metadata": {},
   "outputs": [],
   "source": [
    "import pandas as pd\n",
    "import matplotlib.pyplot as plt\n",
    "import datetime"
   ]
  },
  {
   "cell_type": "code",
   "execution_count": 2,
   "id": "7420cc49",
   "metadata": {},
   "outputs": [],
   "source": [
    "file_names= [\"88-89\",\"89-90\", \"90-91\", \"91-92\", \"92-93\", \"93-94\", \"94-95\", \"95-96\", \"96-97\", \"97-98\", \"98-99\", \"99-00\", \"0-1\", \"1-2\", \"2-3\", \"3-4\", \"4-5\", \"5-6\", \"6-7\", \"7-8\", \"8-9\", \"9-10\", \"10-11\", \"11-12\", \"12-13\", \"13-14\", \"14-15\", \"15-16\", \"16-17\", \"17-18\", \"18-19\", \"19-20\", \"20-21\", \"21-22\", \"22-23\"]\n"
   ]
  },
  {
   "cell_type": "code",
   "execution_count": 3,
   "id": "99224ff8",
   "metadata": {},
   "outputs": [
    {
     "data": {
      "text/plain": [
       "array(['Kanchanpur', 'Mugu', 'Bardiya', 'Banke', 'Pyuthan', 'Kathmandu',\n",
       "       'Dhading', 'Sarlahi', 'Siraha', 'Sunsari', 'Morang', 'Dang',\n",
       "       'Arghakhanchi', 'Lalitpur', 'Sindhupalchowk', 'Saptari',\n",
       "       'Udayapur', 'Taplejung', 'Gulmi', 'Bhaktapur', 'Mahottari',\n",
       "       'Okhaldhunga', 'Achhaam', 'Humla', 'Parsa', 'Dhanusha', 'Kailali',\n",
       "       'Kapilbastu', 'Nawalparasi (Bardghat Susta West)', 'Ramechhap',\n",
       "       'Khotang', 'Nawalparasi (Bardghat Susta East)', 'Baglung',\n",
       "       'Myagdi', 'Rautahat', 'Jhapa', 'Panchthar', 'Kaski', 'Doti',\n",
       "       'Bajura', 'Rolpa', 'Surkhet', 'Palpa', 'Bara', 'Jajarkot',\n",
       "       'Shyanja', 'Bhojpur', 'Rukum West', 'Dailekh', 'Rupandehi',\n",
       "       'Kavrepalanchowk', 'Sindhuli', 'Dolakha', 'Nuwakot', 'Chitawan',\n",
       "       'Solukhumbu', 'Terhathum', 'Ilam', 'Mustang', 'Parbat', 'Tanahu',\n",
       "       'Lamjung', 'Gorkha', 'Salyan', 'Rasuwa', 'Kalikot', 'Dhankuta',\n",
       "       'Makawanpur', 'Shankhuwasabha', 'Bajhang', 'Dadeldhura', 'Jumla',\n",
       "       'Rukum East', 'Dolpa', 'Darchula', 'Baitadi', 'Manang', nan],\n",
       "      dtype=object)"
      ]
     },
     "execution_count": 3,
     "metadata": {},
     "output_type": "execute_result"
    }
   ],
   "source": [
    "df=pd.read_excel(\"22-23.xls\")\n",
    "district=df[\"District\"].unique()\n",
    "district"
   ]
  },
  {
   "cell_type": "code",
   "execution_count": 4,
   "id": "4bf3e696",
   "metadata": {},
   "outputs": [],
   "source": [
    "hilly_districts = [\n",
    "    \"Panchthar\", \"Sindhuli\", \"Ilam\", \"Udayapur\",\n",
    "    \"Okhaldhunga\", \"Bhaktapur\", \"Khotang\", \"Kathmandu\",\n",
    "    \"Kavrepalanchowk\", \"Nuwakot\", \"Lalitpur\",\"Tanahun\",\n",
    "    \"Maygdi\", \"Syangja\", \"Lamjung\", \"Kaski\",\n",
    "    \"Arghakhanchi\", \"Baglung\", \"Parbat\", \"Gulmi\",\n",
    "    \"Palpa\", \"Rukum\",\"Rukum West\",\"Rukum East\", \"Dallekh\", \"Rolpa\", \"Dhading\",\n",
    "    \"Salyan\", \"Jajarkot\", \"Doti\", \"Gorkha\",\"Dailekh\",\n",
    "    \"Therathum\", \"Baitadi\", \"Ramechhap\",\"Panchthar\",\"Dhankuta\",\"Bhojpur\",\"Khotang\",\"Achhaam\",\"Pyuthan\"\n",
    ",\"Makawanpur\"]\n"
   ]
  },
  {
   "cell_type": "code",
   "execution_count": 5,
   "id": "873c70d1",
   "metadata": {},
   "outputs": [],
   "source": [
    "terai_districts = [\n",
    "    \"Jhapa\", \"Kailali\", \"Banke\", \"Sarlahi\", \"Dhanusha\", \"Kanchanpur\",\n",
    "    \"Rautahat\", \"Nawalparasi (Bardghat Susta West),'Nawalparasi (Bardghat Susta East)\",\"Nawalparasi\"\n",
    "    \"Parsa\", \"Morang\", \"Siraha\", \"Bardiya\",\n",
    "    \"Dang\", \"Mahottari\", \"Kapilbastu\", \"Rupandehi\", \"Saptari\",\n",
    "    \"Chitawan\", \"Sunsari\", \"Bara\"\n",
    "]"
   ]
  },
  {
   "cell_type": "code",
   "execution_count": 6,
   "id": "ed500dea",
   "metadata": {},
   "outputs": [],
   "source": [
    "himalaya_districts = [\n",
    "    \"Mugu\", \"Taplejung\", \"Rasuwa\",\n",
    "    \"Darchula\", \"Sindhupalchowk\", \"Mustang\", \"Dolpa\",\n",
    "     \"Manang\", \"Jumla\", \"Humla\",\"Bajura\",\"Bajhang\"\n",
    "    \"Shankhuwasava\", \"Kalikot\", \"Solukhumbu\", \"Dolakha\"\n",
    "]\n"
   ]
  },
  {
   "cell_type": "code",
   "execution_count": 7,
   "id": "6e378f8e",
   "metadata": {},
   "outputs": [
    {
     "name": "stdout",
     "output_type": "stream",
     "text": [
      "Number of elements in the list: 77\n"
     ]
    }
   ],
   "source": [
    "count = len(terai_districts)+len(hilly_districts)+len(himalaya_districts)\n",
    "print(\"Number of elements in the list:\", count)"
   ]
  },
  {
   "cell_type": "code",
   "execution_count": 8,
   "id": "6cb23c20",
   "metadata": {},
   "outputs": [],
   "source": [
    "deaths_each_year_hilly=[]\n",
    "deaths_each_year_himalaya=[]\n",
    "deaths_each_year_terai=[]\n"
   ]
  },
  {
   "cell_type": "code",
   "execution_count": 9,
   "id": "dac9bce6",
   "metadata": {},
   "outputs": [],
   "source": [
    "for districts in district:\n",
    "    for hilly in hilly_districts:\n",
    "        if districts == hilly:\n",
    "            for terai in terai_districts:\n",
    "                if districts == terai:\n",
    "                    for himal in himalaya_districts:\n",
    "                        if districts == himal:\n",
    "                            print(districts)"
   ]
  },
  {
   "cell_type": "code",
   "execution_count": 10,
   "id": "75715291",
   "metadata": {},
   "outputs": [
    {
     "name": "stdout",
     "output_type": "stream",
     "text": [
      "Total deaths due to lightning in hilly districts 88-89: 2\n",
      "Total deaths due to lightning in hilly districts 89-90: 4\n",
      "Total deaths due to lightning in hilly districts 90-91: 5\n",
      "Total deaths due to lightning in hilly districts 91-92: 12\n",
      "Total deaths due to lightning in hilly districts 92-93: 4\n",
      "Total deaths due to lightning in hilly districts 93-94: 12\n",
      "Total deaths due to lightning in hilly districts 94-95: 26\n",
      "Total deaths due to lightning in hilly districts 95-96: 4\n",
      "Total deaths due to lightning in hilly districts 96-97: 22\n",
      "Total deaths due to lightning in hilly districts 97-98: 29\n",
      "Total deaths due to lightning in hilly districts 98-99: 11\n",
      "Total deaths due to lightning in hilly districts 99-00: 14\n",
      "Total deaths due to lightning in hilly districts 0-1: 7\n",
      "Total deaths due to lightning in hilly districts 1-2: 32\n",
      "Total deaths due to lightning in hilly districts 2-3: 11\n",
      "Total deaths due to lightning in hilly districts 3-4: 15\n",
      "Total deaths due to lightning in hilly districts 4-5: 14\n",
      "Total deaths due to lightning in hilly districts 5-6: 7\n",
      "Total deaths due to lightning in hilly districts 6-7: 22\n",
      "Total deaths due to lightning in hilly districts 7-8: 28\n",
      "Total deaths due to lightning in hilly districts 8-9: 36\n",
      "Total deaths due to lightning in hilly districts 9-10: 42\n",
      "Total deaths due to lightning in hilly districts 10-11: 32\n",
      "Total deaths due to lightning in hilly districts 11-12: 59\n",
      "Total deaths due to lightning in hilly districts 12-13: 53\n",
      "Total deaths due to lightning in hilly districts 13-14: 81\n",
      "Total deaths due to lightning in hilly districts 14-15: 53\n",
      "Total deaths due to lightning in hilly districts 15-16: 52\n",
      "Total deaths due to lightning in hilly districts 16-17: 54\n",
      "Total deaths due to lightning in hilly districts 17-18: 48\n",
      "Total deaths due to lightning in hilly districts 18-19: 42\n",
      "Total deaths due to lightning in hilly districts 19-20: 44\n",
      "Total deaths due to lightning in hilly districts 20-21: 36\n",
      "Total deaths due to lightning in hilly districts 21-22: 27\n",
      "Total deaths due to lightning in hilly districts 22-23: 40\n"
     ]
    }
   ],
   "source": [
    "for file_name in file_names:\n",
    " \n",
    "    file_path = f\"{file_name}.xls\"\n",
    " \n",
    "    xls = pd.ExcelFile(file_path)\n",
    "\n",
    "    df = pd.read_excel(xls)\n",
    "    \n",
    "    filtered_df = df[(df[\"Incident\"] == \"Thunderbolt\") & (df[\"District\"].isin(hilly_districts))]\n",
    "    \n",
    "    total_deaths = filtered_df[\"Total Death\"].sum()\n",
    "    \n",
    "    deaths_each_year_hilly.append(total_deaths)\n",
    "    \n",
    "    print(f\"Total deaths due to lightning in hilly districts {file_name}: {total_deaths}\")\n",
    "\n",
    "\n",
    "    \n",
    " \n",
    "    "
   ]
  },
  {
   "cell_type": "code",
   "execution_count": 11,
   "id": "58104dbe",
   "metadata": {},
   "outputs": [
    {
     "name": "stdout",
     "output_type": "stream",
     "text": [
      "Total deaths due to lightning in terai districts 88-89: 1\n",
      "Total deaths due to lightning in terai districts 89-90: 8\n",
      "Total deaths due to lightning in terai districts 90-91: 8\n",
      "Total deaths due to lightning in terai districts 91-92: 16\n",
      "Total deaths due to lightning in terai districts 92-93: 6\n",
      "Total deaths due to lightning in terai districts 93-94: 26\n",
      "Total deaths due to lightning in terai districts 94-95: 23\n",
      "Total deaths due to lightning in terai districts 95-96: 9\n",
      "Total deaths due to lightning in terai districts 96-97: 9\n",
      "Total deaths due to lightning in terai districts 97-98: 25\n",
      "Total deaths due to lightning in terai districts 98-99: 5\n",
      "Total deaths due to lightning in terai districts 99-00: 8\n",
      "Total deaths due to lightning in terai districts 0-1: 14\n",
      "Total deaths due to lightning in terai districts 1-2: 13\n",
      "Total deaths due to lightning in terai districts 2-3: 15\n",
      "Total deaths due to lightning in terai districts 3-4: 35\n",
      "Total deaths due to lightning in terai districts 4-5: 7\n",
      "Total deaths due to lightning in terai districts 5-6: 17\n",
      "Total deaths due to lightning in terai districts 6-7: 10\n",
      "Total deaths due to lightning in terai districts 7-8: 6\n",
      "Total deaths due to lightning in terai districts 8-9: 18\n",
      "Total deaths due to lightning in terai districts 9-10: 26\n",
      "Total deaths due to lightning in terai districts 10-11: 33\n",
      "Total deaths due to lightning in terai districts 11-12: 22\n",
      "Total deaths due to lightning in terai districts 12-13: 36\n",
      "Total deaths due to lightning in terai districts 13-14: 35\n",
      "Total deaths due to lightning in terai districts 14-15: 24\n",
      "Total deaths due to lightning in terai districts 15-16: 30\n",
      "Total deaths due to lightning in terai districts 16-17: 43\n",
      "Total deaths due to lightning in terai districts 17-18: 24\n",
      "Total deaths due to lightning in terai districts 18-19: 17\n",
      "Total deaths due to lightning in terai districts 19-20: 32\n",
      "Total deaths due to lightning in terai districts 20-21: 32\n",
      "Total deaths due to lightning in terai districts 21-22: 19\n",
      "Total deaths due to lightning in terai districts 22-23: 30\n"
     ]
    }
   ],
   "source": [
    "for file_name in file_names:\n",
    " \n",
    "    file_path = f\"{file_name}.xls\"\n",
    " \n",
    "    xls = pd.ExcelFile(file_path)\n",
    "\n",
    "    df = pd.read_excel(xls)\n",
    "    \n",
    "    filtered_df = df[(df[\"Incident\"] == \"Thunderbolt\") & (df[\"District\"].isin(terai_districts))]\n",
    "    \n",
    "    total_deaths_terai = filtered_df[\"Total Death\"].sum()\n",
    "    \n",
    "    deaths_each_year_terai.append(total_deaths_terai)\n",
    "    \n",
    "    print(f\"Total deaths due to lightning in terai districts {file_name}: {total_deaths_terai}\")\n",
    "\n",
    "    \n",
    "    \n",
    " \n",
    "    "
   ]
  },
  {
   "cell_type": "code",
   "execution_count": 12,
   "id": "35b24108",
   "metadata": {
    "scrolled": true
   },
   "outputs": [
    {
     "name": "stdout",
     "output_type": "stream",
     "text": [
      "Total deaths due to lightning in terai districts 88-89: 3\n",
      "Total deaths due to lightning in terai districts 89-90: 0\n",
      "Total deaths due to lightning in terai districts 90-91: 0\n",
      "Total deaths due to lightning in terai districts 91-92: 0\n",
      "Total deaths due to lightning in terai districts 92-93: 3\n",
      "Total deaths due to lightning in terai districts 93-94: 10\n",
      "Total deaths due to lightning in terai districts 94-95: 1\n",
      "Total deaths due to lightning in terai districts 95-96: 1\n",
      "Total deaths due to lightning in terai districts 96-97: 1\n",
      "Total deaths due to lightning in terai districts 97-98: 11\n",
      "Total deaths due to lightning in terai districts 98-99: 1\n",
      "Total deaths due to lightning in terai districts 99-00: 0\n",
      "Total deaths due to lightning in terai districts 0-1: 0\n",
      "Total deaths due to lightning in terai districts 1-2: 9\n",
      "Total deaths due to lightning in terai districts 2-3: 3\n",
      "Total deaths due to lightning in terai districts 3-4: 13\n",
      "Total deaths due to lightning in terai districts 4-5: 1\n",
      "Total deaths due to lightning in terai districts 5-6: 5\n",
      "Total deaths due to lightning in terai districts 6-7: 10\n",
      "Total deaths due to lightning in terai districts 7-8: 8\n",
      "Total deaths due to lightning in terai districts 8-9: 5\n",
      "Total deaths due to lightning in terai districts 9-10: 3\n",
      "Total deaths due to lightning in terai districts 10-11: 3\n",
      "Total deaths due to lightning in terai districts 11-12: 11\n",
      "Total deaths due to lightning in terai districts 12-13: 13\n",
      "Total deaths due to lightning in terai districts 13-14: 15\n",
      "Total deaths due to lightning in terai districts 14-15: 9\n",
      "Total deaths due to lightning in terai districts 15-16: 14\n",
      "Total deaths due to lightning in terai districts 16-17: 11\n",
      "Total deaths due to lightning in terai districts 17-18: 8\n",
      "Total deaths due to lightning in terai districts 18-19: 6\n",
      "Total deaths due to lightning in terai districts 19-20: 4\n",
      "Total deaths due to lightning in terai districts 20-21: 6\n",
      "Total deaths due to lightning in terai districts 21-22: 0\n",
      "Total deaths due to lightning in terai districts 22-23: 6\n"
     ]
    }
   ],
   "source": [
    "for file_name in file_names:\n",
    " \n",
    "    file_path = f\"{file_name}.xls\"\n",
    " \n",
    "    xls = pd.ExcelFile(file_path)\n",
    "\n",
    "    df = pd.read_excel(xls)\n",
    "    \n",
    "    filtered_df = df[(df[\"Incident\"] == \"Thunderbolt\") & (df[\"District\"].isin(himalaya_districts))]\n",
    "    \n",
    "    total_deaths_himalaya = filtered_df[\"Total Death\"].sum()\n",
    "    \n",
    "    deaths_each_year_himalaya.append(total_deaths_himalaya)\n",
    "    \n",
    "    print(f\"Total deaths due to lightning in terai districts {file_name}: {total_deaths_himalaya}\")\n",
    "\n",
    "    \n",
    "    \n",
    " \n",
    "    "
   ]
  },
  {
   "cell_type": "markdown",
   "id": "f2497868",
   "metadata": {},
   "source": [
    "     \n",
    "      \n",
    "       \n",
    "        \n",
    "         \n",
    "          ."
   ]
  },
  {
   "cell_type": "code",
   "execution_count": 14,
   "id": "65eb9844",
   "metadata": {},
   "outputs": [
    {
     "data": {
      "text/plain": [
       "<matplotlib.legend.Legend at 0x7fa26253d930>"
      ]
     },
     "execution_count": 14,
     "metadata": {},
     "output_type": "execute_result"
    },
    {
     "data": {
      "image/png": "[encoded data removed]",
      "text/plain": [
       "<Figure size 1080x288 with 1 Axes>"
      ]
     },
     "metadata": {
      "needs_background": "light"
     },
     "output_type": "display_data"
    }
   ],
   "source": [
    "plt.figure(figsize=(15, 4)) \n",
    "\n",
    "file_names = [\n",
    "    '1988', '1989', '1990', '1991', '1992', '1993', '1994', '1995', '1996', '1997',\n",
    "    '1998', '1999', '2000', '2001', '2002', '2003', '2004', '2005', '2006', '2007',\n",
    "    '2008', '2009', '2010', '2011', '2012', '2013', '2014', '2015', '2016', '2017',\n",
    "    '2018', '2019', '2020', '2021', '2022'\n",
    "]\n",
    "\n",
    "\n",
    "plt.plot(file_names, deaths_each_year_himalaya, linestyle='-', marker=\"o\",color='b',label='Mountain')\n",
    "plt.plot(file_names, deaths_each_year_terai, linestyle='-', marker=\"o\",color='r',label='Terai')\n",
    "plt.plot(file_names, deaths_each_year_hilly, linestyle='-',marker=\"o\", color='g',label='Hill')\n",
    "\n",
    "\n",
    "plt.xlabel('Year')\n",
    "plt.ylabel('Death')\n",
    "\n",
    "plt.xticks(rotation=45,ha=\"right\")\n",
    "plt.title(\"Death in different geographical region of Nepal in past 3 decades\")\n",
    "plt.ylim(0,90)  # Adjusted y-axis range\n",
    "\n",
    "legend_handles = [\n",
    "    plt.Line2D([0], [0], marker='o', color='w', markerfacecolor='green', markersize=8, label='Hilly'),\n",
    "    plt.Line2D([0], [0], marker='o', color='w', markerfacecolor='blue', markersize=8, label='Mountain'),\n",
    "    plt.Line2D([0], [0], marker='o', color='w', markerfacecolor='red', markersize=8, label='Terai')\n",
    "]\n",
    "for y_value in range(0, 90 ,10):\n",
    "    plt.axhline(y=y_value, color='darkgray', linestyle='--', linewidth=0.5)\n",
    "# Add the legend\n",
    "plt.savefig(\"regiondeath.png\", format='png', dpi=2000)\n",
    "plt.legend(handles=legend_handles, loc='upper right')"
   ]
  }
 ],
 "metadata": {
  "kernelspec": {
   "display_name": "Python 3 (ipykernel)",
   "language": "python",
   "name": "python3"
  },
  "language_info": {
   "codemirror_mode": {
    "name": "ipython",
    "version": 3
   },
   "file_extension": ".py",
   "mimetype": "text/x-python",
   "name": "python",
   "nbconvert_exporter": "python",
   "pygments_lexer": "ipython3",
   "version": "3.10.12"
  }
 },
 "nbformat": 4,
 "nbformat_minor": 5
}
