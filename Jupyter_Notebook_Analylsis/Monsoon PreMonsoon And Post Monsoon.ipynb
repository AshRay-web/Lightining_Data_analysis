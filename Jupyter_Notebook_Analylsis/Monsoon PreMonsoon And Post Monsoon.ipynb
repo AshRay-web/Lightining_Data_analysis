{
 "cells": [
  {
   "cell_type": "code",
   "execution_count": 42,
   "id": "b4576f02",
   "metadata": {},
   "outputs": [],
   "source": [
    "import pandas as pd\n",
    "import datetime\n",
    "import numpy as np\n",
    "import matplotlib.pyplot as plt"
   ]
  },
  {
   "cell_type": "code",
   "execution_count": 43,
   "id": "f5383776",
   "metadata": {},
   "outputs": [],
   "source": [
    "file_names = [\"14-15\", \"15-16\", \"16-17\", \"17-18\", \"18-19\", \"19-20\", \"20-21\", \"21-22\", \"22-23\"]"
   ]
  },
  {
   "cell_type": "code",
   "execution_count": 44,
   "id": "0998d018",
   "metadata": {},
   "outputs": [],
   "source": [
    "pre_monsoon_deaths=[]\n",
    "monsoon_deaths=[]\n",
    "post_monsoon_deaths=[]"
   ]
  },
  {
   "cell_type": "code",
   "execution_count": 45,
   "id": "94769223",
   "metadata": {},
   "outputs": [],
   "source": [
    "pre_monsoon_months = [3, 4, 5]\n",
    "monsoon_months = [6, 7, 8]\n",
    "post_monsoon_months = [10, 11, 12]"
   ]
  },
  {
   "cell_type": "code",
   "execution_count": 46,
   "id": "56f04b04",
   "metadata": {},
   "outputs": [],
   "source": [
    "for file_name in file_names:\n",
    " \n",
    "    file_path = f\"{file_name}.xls\"\n",
    " \n",
    "    xls = pd.ExcelFile(file_path)\n",
    "\n",
    "    df = pd.read_excel(xls)\n",
    "\n",
    "    \n",
    "    filtered_df = df[df[\"Incident\"] == \"Thunderbolt\"].copy()\n",
    "\n",
    "    \n",
    "    filtered_df[\"Month\"] = pd.to_datetime(filtered_df[\"Incident Date\"]).dt.month\n",
    "\n",
    "    pre_monsoon_sum = filtered_df[filtered_df[\"Month\"].isin(pre_monsoon_months)][\"Total Death\"].sum()\n",
    "    monsoon_sum = filtered_df[filtered_df[\"Month\"].isin(monsoon_months)][\"Total Death\"].sum()\n",
    "    post_monsoon_sum = filtered_df[filtered_df[\"Month\"].isin(post_monsoon_months)][\"Total Death\"].sum()\n",
    "    \n",
    "    # Append the sums to respective lists\n",
    "    pre_monsoon_deaths.append(pre_monsoon_sum)\n",
    "    monsoon_deaths.append(monsoon_sum)\n",
    "    post_monsoon_deaths.append(post_monsoon_sum)"
   ]
  },
  {
   "cell_type": "code",
   "execution_count": 47,
   "id": "c0e02108",
   "metadata": {},
   "outputs": [
    {
     "name": "stdout",
     "output_type": "stream",
     "text": [
      "All Pre-Monsoon Deaths: [36, 52, 41, 48, 49, 26, 33, 25, 24]\n",
      "All Monsoon Deaths: [36, 32, 51, 28, 23, 48, 31, 21, 43]\n",
      "All Post-Monsoon Deaths: [7, 6, 6, 0, 0, 2, 0, 1, 5]\n"
     ]
    }
   ],
   "source": [
    "\n",
    "print(\"All Pre-Monsoon Deaths:\", pre_monsoon_deaths)\n",
    "print(\"All Monsoon Deaths:\", monsoon_deaths)\n",
    "print(\"All Post-Monsoon Deaths:\", post_monsoon_deaths)"
   ]
  },
  {
   "cell_type": "code",
   "execution_count": 52,
   "id": "21feccde",
   "metadata": {},
   "outputs": [
    {
     "data": {
      "image/png": "[encoded data removed]",
      "text/plain": [
       "<Figure size 504x360 with 1 Axes>"
      ]
     },
     "metadata": {
      "needs_background": "light"
     },
     "output_type": "display_data"
    }
   ],
   "source": [
    "\n",
    "bar_width = 0.3\n",
    "index = np.arange(len(file_names))\n",
    "\n",
    "\n",
    "\n",
    "years = ['14','15' ,'16', '17','18', '19', '20', '21','22']\n",
    "\n",
    "fig, ax = plt.subplots(figsize=(7, 5))\n",
    "pre_bar = ax.bar(index, pre_monsoon_deaths, bar_width, label='Pre-Monsoon', color='green', alpha=0.3)\n",
    "monsoon_bar = ax.bar(index + bar_width, monsoon_deaths, bar_width, label='Monsoon', color='green', alpha=1)\n",
    "post_bar = ax.bar(index + 2 * bar_width, post_monsoon_deaths, bar_width, label='Post-Monsoon', color='green', alpha=0.6)\n",
    "\n",
    "\n",
    "\n",
    "ax.set_xticks(index + bar_width)\n",
    "ax.set_xticklabels(years)\n",
    "ax.legend(fontsize=14)\n",
    "plt.tick_params(axis='y', labelsize=15)\n",
    "\n",
    "plt.tick_params(axis='x', labelsize=15)\n",
    "plt.ylim(0,69) \n",
    "\n",
    "\n",
    "plt.xlabel('Year', fontsize=17)\n",
    "plt.ylabel('Deaths', fontsize=17)\n",
    "\n",
    "\n",
    "plt.show()"
   ]
  },
  {
   "cell_type": "code",
   "execution_count": null,
   "id": "55f65fb3",
   "metadata": {},
   "outputs": [],
   "source": []
  }
 ],
 "metadata": {
  "kernelspec": {
   "display_name": "Python 3 (ipykernel)",
   "language": "python",
   "name": "python3"
  },
  "language_info": {
   "codemirror_mode": {
    "name": "ipython",
    "version": 3
   },
   "file_extension": ".py",
   "mimetype": "text/x-python",
   "name": "python",
   "nbconvert_exporter": "python",
   "pygments_lexer": "ipython3",
   "version": "3.10.12"
  }
 },
 "nbformat": 4,
 "nbformat_minor": 5
}
